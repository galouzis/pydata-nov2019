{
 "cells": [
  {
   "cell_type": "markdown",
   "metadata": {},
   "source": [
    "# Day 1 - Chronal Calibration"
   ]
  },
  {
   "cell_type": "markdown",
   "metadata": {},
   "source": [
    "### Part 1\n",
    "After feeling like you've been falling for a few minutes, you look at the device's tiny screen. \"Error: Device must be calibrated before first use. Frequency drift detected. Cannot maintain destination lock.\" Below the message, the device shows a sequence of changes in frequency (your puzzle input). A value like +6 means the current frequency increases by 6; a value like -3 means the current frequency decreases by 3.\n",
    "\n",
    "For example, if the device displays frequency changes of +1, -2, +3, +1, then starting from a frequency of zero, the following changes would occur:\n",
    "\n",
    " - Current frequency  0, change of +1; resulting frequency  1.\n",
    " - Current frequency  1, change of -2; resulting frequency -1.\n",
    " - Current frequency -1, change of +3; resulting frequency  2.\n",
    " - Current frequency  2, change of +1; resulting frequency  3.\n",
    " \n",
    "In this example, the resulting frequency is 3.\n",
    "\n",
    "##### Starting with a frequency of zero, what is the resulting frequency after all of the changes in frequency have been applied?"
   ]
  },
  {
   "cell_type": "code",
   "execution_count": null,
   "metadata": {},
   "outputs": [],
   "source": [
    "with open('./Input/inputDay1.txt') as f:\n",
    "    freqList = [int(freq) for freq in f]"
   ]
  },
  {
   "cell_type": "code",
   "execution_count": null,
   "metadata": {},
   "outputs": [],
   "source": [
    "part1 = sum(freqList)"
   ]
  },
  {
   "cell_type": "markdown",
   "metadata": {},
   "source": [
    "### Part 2  \n",
    "\n",
    "You notice that the device repeats the same frequency change list over and over. To calibrate the device, you need to find the first frequency it reaches twice.\n",
    "\n",
    "For example, using the same list of changes above, the device would loop as follows:\n",
    "\n",
    " - Current frequency  0, change of +1; resulting frequency  1.\n",
    " - Current frequency  1, change of -2; resulting frequency -1.\n",
    " - Current frequency -1, change of +3; resulting frequency  2.\n",
    " - Current frequency  2, change of +1; resulting frequency  3.\n",
    " - (At this point, the device continues from the start of the list.)\n",
    " - Current frequency  3, change of +1; resulting frequency  4.\n",
    " - Current frequency  4, change of -2; resulting frequency  2, which has already been seen.\n",
    " \n",
    "In this example, the first frequency reached twice is 2. Note that your device might need to repeat its list of frequency changes many times before a duplicate frequency is found, and that duplicates might be found while in the middle of processing the list.\n",
    "\n",
    "##### What is the first frequency your device reaches twice?"
   ]
  },
  {
   "cell_type": "code",
   "execution_count": null,
   "metadata": {},
   "outputs": [],
   "source": [
    "def part2(inputFrequencies):\n",
    "    # initial freqency is 0\n",
    "    frequency = 0\n",
    "    \n",
    "    # initialize the recorded freqencies\n",
    "    seenFrequencies = {frequency}\n",
    "    \n",
    "    while True:    \n",
    "        for freq in inputFrequencies:\n",
    "            # Update the frequncy\n",
    "            frequency += freq\n",
    "            \n",
    "            # Check if the frequency has already been recorded\n",
    "            if frequency in seenFrequencies:\n",
    "                return frequency\n",
    "            \n",
    "            # Add frequency to the recorded frequencies\n",
    "            seenFrequencies.add(frequency)"
   ]
  },
  {
   "cell_type": "code",
   "execution_count": null,
   "metadata": {},
   "outputs": [],
   "source": [
    "print(part2(freqList))"
   ]
  },
  {
   "cell_type": "code",
   "execution_count": null,
   "metadata": {},
   "outputs": [],
   "source": [
    "def recordedFrequencies(frequency,seenFrequencies,inputFrequencies):\n",
    "    seen = False\n",
    "    for freq in inputFrequencies:\n",
    "        # Update the frequency\n",
    "        frequency += freq\n",
    "        \n",
    "        # Check if the frequency has already been recorded\n",
    "        if frequency in seenFrequencies:\n",
    "            seen = True            \n",
    "            return print(frequency)\n",
    "        \n",
    "        # Add frequency to the recorded frequencies\n",
    "        seenFrequencies.add(frequency)\n",
    "\n",
    "    # If a duplicate haven't been found call the function again\n",
    "    if not seen:\n",
    "        recordedFrequencies(frequency,seenFrequencies,inputFrequencies)"
   ]
  },
  {
   "cell_type": "code",
   "execution_count": null,
   "metadata": {},
   "outputs": [],
   "source": [
    "f = 0\n",
    "recordedFrequencies(f,{f},freqList)"
   ]
  },
  {
   "cell_type": "code",
   "execution_count": null,
   "metadata": {},
   "outputs": [],
   "source": []
  },
  {
   "cell_type": "code",
   "execution_count": null,
   "metadata": {},
   "outputs": [],
   "source": [
    "from itertools import combinations\n",
    "\n",
    "frequency = 0\n",
    "frequencyList = []\n",
    "\n",
    "for freq in freqList:\n",
    "    # Update the frequency\n",
    "    frequency += freq\n",
    "    frequencyList.append(frequency)\n",
    "\n",
    "# Create pairs of frequencies\n",
    "frequencyPairs = combinations(frequencyList, 2)\n",
    "\n",
    "# \n",
    "candidate = []\n",
    "for pair in frequencyPairs:\n",
    "    \n",
    "    # If two frequencies differ by a multiple of part1 result\n",
    "    if (pair[0] - pair[1])%sum(freqList) == 0:\n",
    "        \n",
    "        # Number of times you would have looped through the list\n",
    "        loops = abs(pair[0] - pair[1])/sum(freqList)\n",
    "        \n",
    "        # If list is empty or a duplicate is found with fewer iterations\n",
    "        if not candidate or loops < candidate[1]:\n",
    "            candidate = [max(pair), loops]\n",
    "        \n",
    "print(candidate[0])\n",
    "   "
   ]
  },
  {
   "cell_type": "code",
   "execution_count": null,
   "metadata": {},
   "outputs": [],
   "source": [
    "def part2(inputFrequencies):\n",
    "    f = 0\n",
    "    fList = []\n",
    "    \n",
    "    for freq in inputFrequencies:\n",
    "        \n",
    "        # Update the frequency \n",
    "        f += freq\n",
    "        fList.append(f)\n",
    "    \n",
    "    n=0\n",
    "    frequencies = {0}\n",
    "    \n",
    "    while True:\n",
    "        for f in fList:\n",
    "            # After first iteration, the frequencies will increase with a multiple of part1 result\n",
    "            frequency = f + n*sum(inputFrequencies)\n",
    "            \n",
    "            # Check if frequency has been seen\n",
    "            if frequency in frequencies:\n",
    "                return frequency\n",
    "            \n",
    "            # Add frequency to the recorded frequencies\n",
    "            frequencies.add(frequency)\n",
    "        \n",
    "        n += 1"
   ]
  },
  {
   "cell_type": "code",
   "execution_count": null,
   "metadata": {},
   "outputs": [],
   "source": [
    "part2(freqList)"
   ]
  },
  {
   "cell_type": "code",
   "execution_count": null,
   "metadata": {},
   "outputs": [],
   "source": []
  }
 ],
 "metadata": {
  "kernelspec": {
   "display_name": "Python 3",
   "language": "python",
   "name": "python3"
  },
  "language_info": {
   "codemirror_mode": {
    "name": "ipython",
    "version": 3
   },
   "file_extension": ".py",
   "mimetype": "text/x-python",
   "name": "python",
   "nbconvert_exporter": "python",
   "pygments_lexer": "ipython3",
   "version": "3.7.4"
  }
 },
 "nbformat": 4,
 "nbformat_minor": 2
}
