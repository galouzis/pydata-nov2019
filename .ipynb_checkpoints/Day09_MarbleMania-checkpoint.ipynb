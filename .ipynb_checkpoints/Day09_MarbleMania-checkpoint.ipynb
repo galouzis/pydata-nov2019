{
 "cells": [
  {
   "cell_type": "markdown",
   "metadata": {},
   "source": [
    "# Day 9 - Marble Mania"
   ]
  },
  {
   "cell_type": "markdown",
   "metadata": {},
   "source": [
    "### Part 1\n",
    "You talk to the Elves while you wait for your navigation system to initialize. To pass the time, they introduce you to their favorite marble game.\n",
    "\n",
    "The Elves play this game by taking turns arranging the marbles in a circle according to very particular rules. The marbles are numbered starting with 0 and increasing by 1 until every marble has a number.\n",
    "\n",
    "First, the marble numbered 0 is placed in the circle. At this point, while it contains only a single marble, it is still a circle: the marble is both clockwise from itself and counter-clockwise from itself. This marble is designated the current marble.\n",
    "\n",
    "Then, each Elf takes a turn placing the lowest-numbered remaining marble into the circle between the marbles that are 1 and 2 marbles clockwise of the current marble. (When the circle is large enough, this means that there is one marble between the marble that was just placed and the current marble.) The marble that was just placed then becomes the current marble.\n",
    "\n",
    "However, if the marble that is about to be placed has a number which is a multiple of 23, something entirely different happens. First, the current player keeps the marble they would have placed, adding it to their score. In addition, the marble 7 marbles counter-clockwise from the current marble is removed from the circle and also added to the current player's score. The marble located immediately clockwise of the marble that was removed becomes the new current marble.\n",
    "\n",
    "For example, suppose there are 9 players. After the marble with value 0 is placed in the middle, each player (shown in square brackets) takes a turn. The result of each of those turns would produce circles of marbles like this, where clockwise is to the right and the resulting current marble is in parentheses:\n",
    "\n",
    "<pre><code>[-] <em>(0)</em>\n",
    "[1]  0<em> (1)</em>\n",
    "[2]  0<em> (2)</em> 1 \n",
    "[3]  0  2  1<em> (3)</em>\n",
    "[4]  0<em> (4)</em> 2  1  3 \n",
    "[5]  0  4  2<em> (5)</em> 1  3 \n",
    "[6]  0  4  2  5  1<em> (6)</em> 3 \n",
    "[7]  0  4  2  5  1  6  3<em> (7)</em>\n",
    "[8]  0<em> (8)</em> 4  2  5  1  6  3  7 \n",
    "[9]  0  8  4<em> (9)</em> 2  5  1  6  3  7 \n",
    "[1]  0  8  4  9  2<em>(10)</em> 5  1  6  3  7 \n",
    "[2]  0  8  4  9  2 10  5<em>(11)</em> 1  6  3  7 \n",
    "[3]  0  8  4  9  2 10  5 11  1<em>(12)</em> 6  3  7 \n",
    "[4]  0  8  4  9  2 10  5 11  1 12  6<em>(13)</em> 3  7 \n",
    "[5]  0  8  4  9  2 10  5 11  1 12  6 13  3<em>(14)</em> 7 \n",
    "[6]  0  8  4  9  2 10  5 11  1 12  6 13  3 14  7<em>(15)</em>\n",
    "[7]  0<em>(16)</em> 8  4  9  2 10  5 11  1 12  6 13  3 14  7 15 \n",
    "[8]  0 16  8<em>(17)</em> 4  9  2 10  5 11  1 12  6 13  3 14  7 15 \n",
    "[9]  0 16  8 17  4<em>(18)</em> 9  2 10  5 11  1 12  6 13  3 14  7 15 \n",
    "[1]  0 16  8 17  4 18  9<em>(19)</em> 2 10  5 11  1 12  6 13  3 14  7 15 \n",
    "[2]  0 16  8 17  4 18  9 19  2<em>(20)</em>10  5 11  1 12  6 13  3 14  7 15 \n",
    "[3]  0 16  8 17  4 18  9 19  2 20 10<em>(21)</em> 5 11  1 12  6 13  3 14  7 15 \n",
    "[4]  0 16  8 17  4 18  9 19  2 20 10 21  5<em>(22)</em>11  1 12  6 13  3 14  7 15 \n",
    "[5]  0 16  8 17  4 18<em>(19)</em> 2 20 10 21  5 22 11  1 12  6 13  3 14  7 15 \n",
    "[6]  0 16  8 17  4 18 19  2<em>(24)</em>20 10 21  5 22 11  1 12  6 13  3 14  7 15 \n",
    "[7]  0 16  8 17  4 18 19  2 24 20<em>(25)</em>10 21  5 22 11  1 12  6 13  3 14  7 15\n",
    "</code></pre>\n",
    "\n",
    "The goal is to be the player with the highest score after the last marble is used up. Assuming the example above ends after the marble numbered 25, the winning score is 23+9=32 (because player 5 kept marble 23 and removed marble 9, while no other player got any points in this very short example game).\n",
    "\n",
    "Here are a few more examples:\n",
    "\n",
    "- 10 players; last marble is worth 1618 points: high score is 8317\n",
    "- 13 players; last marble is worth 7999 points: high score is 146373\n",
    "- 17 players; last marble is worth 1104 points: high score is 2764\n",
    "- 21 players; last marble is worth 6111 points: high score is 54718\n",
    "- 30 players; last marble is worth 5807 points: high score is 37305\n",
    "\n",
    "##### What is the winning Elf's score?"
   ]
  },
  {
   "cell_type": "code",
   "execution_count": null,
   "metadata": {},
   "outputs": [],
   "source": [
    "with open('./Input/inputDay9.txt','r') as f:\n",
    "    inputString  = f.read().strip()"
   ]
  },
  {
   "cell_type": "code",
   "execution_count": null,
   "metadata": {},
   "outputs": [],
   "source": [
    "import json\n",
    "\n",
    "input = [int(s) for s in inputString.split() if s.isdigit()]\n",
    "\n",
    "players = input[0]\n",
    "lastMarble = input[1]\n",
    "\n",
    "circle = [0]\n",
    "current = circle.index(0)\n",
    "\n",
    "scores = {player: 0 for player in range(1,players+1)}\n",
    "n = (lastMarble // 23) * 23\n",
    "\n",
    "for marble in range(1,n+1):\n",
    "    if marble % 23 == 0:\n",
    "        player = (marble - 1) % players + 1\n",
    "        # current = (current - 7 + len(circle)) % len(circle)\n",
    "        current += len(circle) - 7\n",
    "        current %= len(circle)\n",
    "        #print(player, marble, circle[current], marble+circle[current])\n",
    "        scores[player] += marble + circle.pop(current)\n",
    "    else:\n",
    "        idx = (current + 1) % len(circle) + 1\n",
    "        circle.insert(idx, marble)\n",
    "        current = circle.index(marble)\n",
    "\n",
    "winner = max(scores, key=scores.get)\n",
    "\n",
    "# print()\n",
    "# print(json.dumps(scores, indent=4)\n",
    "# print()\n",
    "print('max score: {}'.format(scores[winner]))"
   ]
  },
  {
   "cell_type": "code",
   "execution_count": null,
   "metadata": {},
   "outputs": [],
   "source": []
  }
 ],
 "metadata": {
  "kernelspec": {
   "display_name": "Python 3",
   "language": "python",
   "name": "python3"
  },
  "language_info": {
   "codemirror_mode": {
    "name": "ipython",
    "version": 3
   },
   "file_extension": ".py",
   "mimetype": "text/x-python",
   "name": "python",
   "nbconvert_exporter": "python",
   "pygments_lexer": "ipython3",
   "version": "3.7.4"
  }
 },
 "nbformat": 4,
 "nbformat_minor": 2
}
