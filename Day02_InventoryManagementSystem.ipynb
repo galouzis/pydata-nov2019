{
 "cells": [
  {
   "cell_type": "markdown",
   "metadata": {},
   "source": [
    "# Day 2  - Inventory Management System"
   ]
  },
  {
   "cell_type": "markdown",
   "metadata": {},
   "source": [
    "### Part 1 \n",
    "You stop falling through time, catch your breath, and check the screen on the device. \"Destination reached. Current Year: 1518. Current Location: North Pole Utility Closet 83N10.\" You made it! Now, to find those anomalies.\n",
    "\n",
    "Outside the utility closet, you hear footsteps and a voice. \"...I'm not sure either. But now that so many people have chimneys, maybe he could sneak in that way?\" Another voice responds, \"Actually, we've been working on a new kind of suit that would let him fit through tight spaces like that. But, I heard that a few days ago, they lost the prototype fabric, the design plans, everything! Nobody on the team can even seem to remember important details of the project!\"\n",
    "\n",
    "\"Wouldn't they have had enough fabric to fill several boxes in the warehouse? They'd be stored together, so the box IDs should be similar. Too bad it would take forever to search the warehouse for two similar box IDs...\" They walk too far away to hear any more.\n",
    "\n",
    "Late at night, you sneak to the warehouse - who knows what kinds of paradoxes you could cause if you were discovered - and use your fancy wrist device to quickly scan every box and produce a list of the likely candidates (your puzzle input).\n",
    "\n",
    "To make sure you didn't miss any, you scan the likely candidate boxes again, counting the number that have an ID containing exactly two of any letter and then separately counting those with exactly three of any letter. You can multiply those two counts together to get a rudimentary checksum and compare it to what your device predicts.\n",
    "\n",
    "For example, if you see the following box IDs:\n",
    "\n",
    " - abcdef contains no letters that appear exactly two or three times.\n",
    " - bababc contains two a and three b, so it counts for both.\n",
    " - abbcde contains two b, but no letter appears exactly three times.\n",
    " - abcccd contains three c, but no letter appears exactly two times.\n",
    " - aabcdd contains two a and two d, but it only counts once.\n",
    " - abcdee contains two e.\n",
    " - ababab contains three a and three b, but it only counts once.\n",
    "\n",
    "Of these box IDs, four of them contain a letter which appears exactly twice, and three of them contain a letter which appears exactly three times. Multiplying these together produces a checksum of 4 * 3 = 12.\n",
    "\n",
    "##### What is the checksum for your list of box IDs?  --> Solution for part 1 further down"
   ]
  },
  {
   "cell_type": "code",
   "execution_count": null,
   "metadata": {},
   "outputs": [],
   "source": [
    "with open('./Input/inputDay2.txt') as f:\n",
    "    boxIdList = [boxId for boxId in f.read().strip().split('\\n')]"
   ]
  },
  {
   "cell_type": "markdown",
   "metadata": {},
   "source": [
    "### Part 2\n",
    "Confident that your list of box IDs is complete, you're ready to find the boxes full of prototype fabric.\n",
    "\n",
    "The boxes will have IDs which differ by exactly one character at the same position in both strings. For example, given the following box IDs:\n",
    "\n",
    " - abcde\n",
    " - fghij\n",
    " - klmno\n",
    " - pqrst\n",
    " - fguij\n",
    " - axcye\n",
    " - wvxyz\n",
    "\n",
    "The IDs abcde and axcye are close, but they differ by two characters (the second and fourth). However, the IDs fghij and fguij differ by exactly one character, the third (h and u). Those must be the correct boxes.\n",
    "\n",
    "##### What letters are common between the two correct box IDs?"
   ]
  },
  {
   "cell_type": "code",
   "execution_count": null,
   "metadata": {},
   "outputs": [],
   "source": [
    "def levenshtein(s, t):\n",
    "    ''' From Wikipedia article; Iterative with two matrix rows. '''\n",
    "    if s == t: return 0\n",
    "    elif len(s) == 0: return len(t)\n",
    "    elif len(t) == 0: return len(s)\n",
    "    v0 = [None] * (len(t) + 1)\n",
    "    v1 = [None] * (len(t) + 1)\n",
    "    for i in range(len(v0)):\n",
    "        v0[i] = i\n",
    "    for i in range(len(s)):\n",
    "        v1[0] = i + 1\n",
    "        for j in range(len(t)):\n",
    "            cost = 0 if s[i] == t[j] else 1\n",
    "            v1[j + 1] = min(v1[j] + 1, v0[j + 1] + 1, v0[j] + cost)\n",
    "        for j in range(len(v0)):\n",
    "            v0[j] = v1[j]\n",
    "\n",
    "    return v1[len(t)]\n",
    "\n",
    "\n",
    "\n",
    "def compare_strings(s, t):\n",
    "    count = 0\n",
    "    \n",
    "    # len(s) == len(t)\n",
    "    for i in range(len(s)):\n",
    "        if s[i] != t[i]:\n",
    "            count += 1\n",
    "    \n",
    "    return count   \n",
    "    \n",
    "    \n",
    "\n",
    "def getLettersOfSimilarIds(inputIds):\n",
    "    similarBoxIds = []\n",
    "\n",
    "    for idx, boxId1 in enumerate(inputIds[:-1]):\n",
    "        for boxId2 in inputIds[idx+1:]:\n",
    "            # If the edit distance is 1 the box ids have been found\n",
    "            if levenshtein(boxId1,boxId2) == 1:\n",
    "#             if compare_strings(boxId1,boxId2) == 1:\n",
    "                similarBoxIds.append(boxId1)\n",
    "                similarBoxIds.append(boxId2)\n",
    "                break\n",
    "        if similarBoxIds: break\n",
    "\n",
    "    return ''.join([letter for letter in similarBoxIds[0] if letter in similarBoxIds[1]])\n"
   ]
  },
  {
   "cell_type": "code",
   "execution_count": null,
   "metadata": {},
   "outputs": [],
   "source": [
    "from itertools import combinations\n",
    "\n",
    "def getLettersOfSimilarIds2(inputIds):\n",
    "\n",
    "    # Create box-id pairs\n",
    "    pairIds = combinations(inputIds, 2)\n",
    "    for pair in pairIds:\n",
    "        # If the edit distance is 1 the pair has been found\n",
    "        if levenshtein(pair[0], pair[1]) == 1:\n",
    "            break\n",
    "\n",
    "    # Concatenate same letters of the two boxIds\n",
    "    return ''.join([letter for letter in pair[0] if letter in pair[1]])"
   ]
  },
  {
   "cell_type": "code",
   "execution_count": null,
   "metadata": {},
   "outputs": [],
   "source": [
    "getLettersOfSimilarIds(boxIdList)"
   ]
  },
  {
   "cell_type": "code",
   "execution_count": null,
   "metadata": {},
   "outputs": [],
   "source": [
    "getLettersOfSimilarIds2(boxIdList)"
   ]
  },
  {
   "cell_type": "markdown",
   "metadata": {},
   "source": [
    "### Part1 solution\n",
    "--\n",
    "--\n",
    "--\n",
    "--\n",
    "--\n",
    "--\n",
    "--\n",
    "--\n",
    "--\n",
    "--"
   ]
  },
  {
   "cell_type": "code",
   "execution_count": null,
   "metadata": {},
   "outputs": [],
   "source": [
    "def checksum(input):\n",
    "    dublets = 0\n",
    "    triplets = 0\n",
    "\n",
    "    for boxId in input:\n",
    "        # This is for knowing if a dublet or triplet has been seen in a given box id\n",
    "        dublet_counted = False\n",
    "        triplet_counted = False\n",
    "\n",
    "        # Iterate over unique letters in given box id\n",
    "        for letter in set(boxId):\n",
    "            # Count occurance of a letter\n",
    "            letterOccurance = boxId.count(letter)\n",
    "\n",
    "            # Check if occurance is 2 or 3 and if a dublet/triplet has been seen\n",
    "            if letterOccurance == 2 and not dublet_counted:\n",
    "                dublets += 1\n",
    "                dublet_counted = True\n",
    "            elif letterOccurance == 3 and not triplet_counted:\n",
    "                triplets += 1\n",
    "                triplet_counted = True\n",
    "\n",
    "    return dublets*triplets"
   ]
  },
  {
   "cell_type": "code",
   "execution_count": null,
   "metadata": {},
   "outputs": [],
   "source": [
    "print(checksum(boxIdList))"
   ]
  },
  {
   "cell_type": "code",
   "execution_count": null,
   "metadata": {},
   "outputs": [],
   "source": []
  }
 ],
 "metadata": {
  "kernelspec": {
   "display_name": "Python 3",
   "language": "python",
   "name": "python3"
  },
  "language_info": {
   "codemirror_mode": {
    "name": "ipython",
    "version": 3
   },
   "file_extension": ".py",
   "mimetype": "text/x-python",
   "name": "python",
   "nbconvert_exporter": "python",
   "pygments_lexer": "ipython3",
   "version": "3.7.4"
  }
 },
 "nbformat": 4,
 "nbformat_minor": 2
}
