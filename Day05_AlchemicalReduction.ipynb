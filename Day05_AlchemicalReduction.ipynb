{
 "cells": [
  {
   "cell_type": "markdown",
   "metadata": {},
   "source": [
    "# Day 5 - Alchemical Reduction"
   ]
  },
  {
   "cell_type": "markdown",
   "metadata": {},
   "source": [
    "### Part 1\n",
    "You've managed to sneak in to the prototype suit manufacturing lab. The Elves are making decent progress, but are still struggling with the suit's size reduction capabilities.\n",
    "\n",
    "While the very latest in 1518 alchemical technology might have solved their problem eventually, you can do better. You scan the chemical composition of the suit's material and discover that it is formed by extremely long polymers (one of which is available as your puzzle input).\n",
    "\n",
    "The polymer is formed by smaller units which, when triggered, react with each other such that two adjacent units of the same type and opposite polarity are destroyed. Units' types are represented by letters; units' polarity is represented by capitalization. For instance, r and R are units with the same type but opposite polarity, whereas r and s are entirely different types and do not react.\n",
    "\n",
    "For example:\n",
    "\n",
    "- In aA, a and A react, leaving nothing behind.\n",
    "- In abBA, bB destroys itself, leaving aA. As above, this then destroys itself, leaving nothing.\n",
    "- In abAB, no two adjacent units are of the same type, and so nothing happens.\n",
    "- In aabAAB, even though aa and AA are of the same type, their polarities match, and so nothing happens.\n",
    "\n",
    "Now, consider a larger example, dabAcCaCBAcCcaDA:\n",
    "\n",
    "- dabAcCaCBAcCcaDA  The first 'cC' is removed.\n",
    "- dabAaCBAcCcaDA    This creates 'Aa', which is removed.\n",
    "- dabCBAcCcaDA      Either 'cC' or 'Cc' are removed (the result is the same).\n",
    "- dabCBAcaDA        No further actions can be taken.\n",
    "\n",
    "After all possible reactions, the resulting polymer contains 10 units.\n",
    "\n",
    "##### How many units remain after fully reacting the polymer you scanned? "
   ]
  },
  {
   "cell_type": "markdown",
   "metadata": {},
   "source": [
    "### Part 2\n",
    "Time to improve the polymer.\n",
    "\n",
    "One of the unit types is causing problems; it's preventing the polymer from collapsing as much as it should. Your goal is to figure out which unit type is causing the most problems, remove all instances of it (regardless of polarity), fully react the remaining polymer, and measure its length.\n",
    "\n",
    "For example, again using the polymer dabAcCaCBAcCcaDA from above:\n",
    "\n",
    "- Removing all A/a units produces dbcCCBcCcD. Fully reacting this polymer produces dbCBcD, which has length 6.\n",
    "- Removing all B/b units produces daAcCaCAcCcaDA. Fully reacting this polymer produces daCAcaDA, which has length 8.\n",
    "- Removing all C/c units produces dabAaBAaDA. Fully reacting this polymer produces daDA, which has length 4.\n",
    "- Removing all D/d units produces abAcCaCBAcCcaA. Fully reacting this polymer produces abCBAc, which has length 6.\n",
    "In this example, removing all C/c units was best, producing the answer 4.\n",
    "\n",
    "##### What is the length of the shortest polymer you can produce by removing all units of exactly one type and fully reacting the result?"
   ]
  },
  {
   "cell_type": "code",
   "execution_count": null,
   "metadata": {},
   "outputs": [],
   "source": [
    "# Load the input\n",
    "with open('./Input/inputDay5.txt') as f:\n",
    "    string = f.read().strip()"
   ]
  },
  {
   "cell_type": "markdown",
   "metadata": {},
   "source": [
    "### Solution Part 1"
   ]
  },
  {
   "cell_type": "code",
   "execution_count": null,
   "metadata": {},
   "outputs": [],
   "source": [
    "def collapsedLength(input,unitType=''):\n",
    "\n",
    "    # Create polymer string (used for part 2 where you have to remove units)\n",
    "    s = input.replace(unitType, '').replace(unitType.upper(), '')\n",
    "\n",
    "    #  Find the unique letters in the polymer\n",
    "    units = set(s.lower())\n",
    "\n",
    "    # Create collapsing units\n",
    "    collapsingUnits = [unit+unit.upper() for unit in units] + [unit.upper()+unit for unit in units]\n",
    "\n",
    "    while True:\n",
    "        l = len(s)\n",
    "        for pair in collapsingUnits:\n",
    "            s = s.replace(pair,'')\n",
    "        \n",
    "        # Exit loop if the length hasn't changed\n",
    "        if len(s) == l: break\n",
    "\n",
    "    return len(s)"
   ]
  },
  {
   "cell_type": "code",
   "execution_count": null,
   "metadata": {},
   "outputs": [],
   "source": [
    "collapsedLength(string)"
   ]
  },
  {
   "cell_type": "markdown",
   "metadata": {},
   "source": [
    "### Solution Part 2"
   ]
  },
  {
   "cell_type": "code",
   "execution_count": null,
   "metadata": {},
   "outputs": [],
   "source": [
    "def collapsedLengthWithoutDefect(input):\n",
    "    defectDictionary = {}\n",
    "    \n",
    "    # Find unique letters in polymer\n",
    "    units = set(input.lower())\n",
    "    \n",
    "    for unit in units:\n",
    "        # Calculate length when removing \"unit\"\n",
    "        defectDictionary.update({unit: collapsedLength(input, unit)})\n",
    "\n",
    "    # Find the letter that results in the shortest polymer after collaps\n",
    "    defect = min(defectDictionary, key=defectDictionary.get)\n",
    "    length = defectDictionary[defect]\n",
    "\n",
    "    return {defect: length}"
   ]
  },
  {
   "cell_type": "code",
   "execution_count": null,
   "metadata": {},
   "outputs": [],
   "source": [
    "collapsedLengthWithoutDefect(string)"
   ]
  },
  {
   "cell_type": "code",
   "execution_count": null,
   "metadata": {},
   "outputs": [],
   "source": []
  }
 ],
 "metadata": {
  "kernelspec": {
   "display_name": "Python 3",
   "language": "python",
   "name": "python3"
  },
  "language_info": {
   "codemirror_mode": {
    "name": "ipython",
    "version": 3
   },
   "file_extension": ".py",
   "mimetype": "text/x-python",
   "name": "python",
   "nbconvert_exporter": "python",
   "pygments_lexer": "ipython3",
   "version": "3.7.4"
  }
 },
 "nbformat": 4,
 "nbformat_minor": 2
}
