{
 "cells": [
  {
   "cell_type": "markdown",
   "metadata": {},
   "source": [
    "# Day 7 - The Sum of Its Parts"
   ]
  },
  {
   "cell_type": "markdown",
   "metadata": {},
   "source": [
    "### Part 1\n",
    "You find yourself standing on a snow-covered coastline; apparently, you landed a little off course. The region is too hilly to see the North Pole from here, but you do spot some Elves that seem to be trying to unpack something that washed ashore. It's quite cold out, so you decide to risk creating a paradox by asking them for directions.\n",
    "\n",
    "\"Oh, are you the search party?\" Somehow, you can understand whatever Elves from the year 1018 speak; you assume it's Ancient Nordic Elvish. Could the device on your wrist also be a translator? \"Those clothes don't look very warm; take this.\" They hand you a heavy coat.\n",
    "\n",
    "\"We do need to find our way back to the North Pole, but we have higher priorities at the moment. You see, believe it or not, this box contains something that will solve all of Santa's transportation problems - at least, that's what it looks like from the pictures in the instructions.\" It doesn't seem like they can read whatever language it's in, but you can: \"Sleigh kit. Some assembly required.\"\n",
    "\n",
    "\"'Sleigh'? What a wonderful name! You must help us assemble this 'sleigh' at once!\" They start excitedly pulling more parts out of the box.\n",
    "\n",
    "The instructions specify a series of steps and requirements about which steps must be finished before others can begin (your puzzle input). Each step is designated by a single letter. For example, suppose you have the following instructions:\n",
    "\n",
    "- Step C must be finished before step A can begin.\n",
    "- Step C must be finished before step F can begin.\n",
    "- Step A must be finished before step B can begin.\n",
    "- Step A must be finished before step D can begin.\n",
    "- Step B must be finished before step E can begin.\n",
    "- Step D must be finished before step E can begin.\n",
    "- Step F must be finished before step E can begin.\n",
    "Visually, these requirements look like this:\n",
    "\n",
    "<pre><code>  -->A--->B--\n",
    " /    \\      \\\n",
    "C      -->D----->E\n",
    " \\           /\n",
    "  ---->F-----\n",
    "</code></pre>\n",
    "\n",
    "Your first goal is to determine the order in which the steps should be completed. If more than one step is ready, choose the step which is first alphabetically. In this example, the steps would be completed as follows:\n",
    "\n",
    "- Only C is available, and so it is done first.\n",
    "- Next, both A and F are available. A is first alphabetically, so it is done next.\n",
    "- Then, even though F was available earlier, steps B and D are now also available, and B is the first alphabetically of the three.\n",
    "- After that, only D and F are available. E is not available because only some of its prerequisites are complete. Therefore, D is completed next.\n",
    "- F is the only choice, so it is done next.\n",
    "- Finally, E is completed.\n",
    "So, in this example, the correct order is CABDFE.\n",
    "\n",
    "##### In what order should the steps in your instructions be completed?"
   ]
  },
  {
   "cell_type": "code",
   "execution_count": 4,
   "metadata": {},
   "outputs": [],
   "source": [
    "with open('./Input/inputDay7.txt') as f:\n",
    "    instructions = [instruction.strip() for instruction in f.read().split('\\n') if instruction.strip()]"
   ]
  },
  {
   "cell_type": "code",
   "execution_count": 28,
   "metadata": {},
   "outputs": [
    {
     "name": "stdout",
     "output_type": "stream",
     "text": [
      "['O', 'U', 'X', 'Y']\n"
     ]
    }
   ],
   "source": [
    "import networkx as nx\n",
    "\n",
    "instructionPairs = [(instruction[instruction.find('tep ') + 4], instruction[instruction.rfind('tep ') + 4]) for instruction in instructions]\n",
    "\n",
    "before = [pair[0] for pair in instructionPairs]\n",
    "after = [pair[1] for pair in instructionPairs]\n",
    "\n",
    "nodes = set(before) - set(after)\n",
    "print(sorted(nodes))\n",
    "\n",
    "nextNodes = []\n",
    "for pair in instructionPairs:\n",
    "    if pair[0] in nodes:\n",
    "        nextNodes.append(pair[1])        "
   ]
  },
  {
   "cell_type": "code",
   "execution_count": 32,
   "metadata": {},
   "outputs": [
    {
     "name": "stdout",
     "output_type": "stream",
     "text": [
      "['O', 'U', 'X', 'Y']\n"
     ]
    }
   ],
   "source": [
    "G = nx.DiGraph()\n",
    "G.add_edges_from(instructionPairs)\n",
    "\n",
    "nodes = G.nodes()\n",
    "startNodes = [node[0] for node in G.in_degree() if node[1] == 0]\n",
    "startNodes.sort()\n",
    "\n",
    "inDegree = {node[0]: node[1] for node in G.in_degree()}\n",
    "\n",
    "nextNodes = {}\n",
    "for node in nodes:\n",
    "    d = nx.shortest_path_length(G, node)\n",
    "    nextNode = [nd for nd,distance in d.items() if distance==1]\n",
    "    nextNodes.update({node: nextNode})\n",
    "    \n",
    "print(startNodes)\n",
    "\n"
   ]
  },
  {
   "cell_type": "code",
   "execution_count": null,
   "metadata": {},
   "outputs": [],
   "source": []
  }
 ],
 "metadata": {
  "kernelspec": {
   "display_name": "Python 3",
   "language": "python",
   "name": "python3"
  },
  "language_info": {
   "codemirror_mode": {
    "name": "ipython",
    "version": 3
   },
   "file_extension": ".py",
   "mimetype": "text/x-python",
   "name": "python",
   "nbconvert_exporter": "python",
   "pygments_lexer": "ipython3",
   "version": "3.7.4"
  }
 },
 "nbformat": 4,
 "nbformat_minor": 2
}
